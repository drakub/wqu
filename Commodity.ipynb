{
 "cells": [
  {
   "cell_type": "markdown",
   "metadata": {
    "id": "DbX7BuMpqchu"
   },
   "source": [
    "**IMPORTING PACKAGES**"
   ]
  },
  {
   "cell_type": "code",
   "execution_count": 2,
   "metadata": {},
   "outputs": [
    {
     "name": "stderr",
     "output_type": "stream",
     "text": [
      "WARNING: Retrying (Retry(total=4, connect=None, read=None, redirect=None, status=None)) after connection broken by 'ConnectTimeoutError(<pip._vendor.urllib3.connection.HTTPSConnection object at 0x000002707372FE80>, 'Connection to pypi.org timed out. (connect timeout=15)')': /simple/xgboost/\n",
      "WARNING: Retrying (Retry(total=3, connect=None, read=None, redirect=None, status=None)) after connection broken by 'ConnectTimeoutError(<pip._vendor.urllib3.connection.HTTPSConnection object at 0x000002707372F5B0>, 'Connection to pypi.org timed out. (connect timeout=15)')': /simple/xgboost/\n",
      "WARNING: Retrying (Retry(total=2, connect=None, read=None, redirect=None, status=None)) after connection broken by 'ConnectTimeoutError(<pip._vendor.urllib3.connection.HTTPSConnection object at 0x000002707372F610>, 'Connection to pypi.org timed out. (connect timeout=15)')': /simple/xgboost/\n",
      "WARNING: Retrying (Retry(total=1, connect=None, read=None, redirect=None, status=None)) after connection broken by 'ConnectTimeoutError(<pip._vendor.urllib3.connection.HTTPSConnection object at 0x000002707372F190>, 'Connection to pypi.org timed out. (connect timeout=15)')': /simple/xgboost/\n",
      "WARNING: Retrying (Retry(total=0, connect=None, read=None, redirect=None, status=None)) after connection broken by 'ConnectTimeoutError(<pip._vendor.urllib3.connection.HTTPSConnection object at 0x000002707372FEB0>, 'Connection to pypi.org timed out. (connect timeout=15)')': /simple/xgboost/\n",
      "ERROR: Could not find a version that satisfies the requirement xgboost (from versions: none)\n",
      "ERROR: No matching distribution found for xgboost\n"
     ]
    }
   ],
   "source": [
    "!pip install xgboost"
   ]
  },
  {
   "cell_type": "code",
   "execution_count": 1,
   "metadata": {
    "id": "3GoqmPe0_wB4"
   },
   "outputs": [
    {
     "ename": "ModuleNotFoundError",
     "evalue": "No module named 'xgboost'",
     "output_type": "error",
     "traceback": [
      "\u001b[1;31m---------------------------------------------------------------------------\u001b[0m",
      "\u001b[1;31mModuleNotFoundError\u001b[0m                       Traceback (most recent call last)",
      "\u001b[1;32m~\\AppData\\Local\\Temp/ipykernel_17700/2975721024.py\u001b[0m in \u001b[0;36m<module>\u001b[1;34m\u001b[0m\n\u001b[0;32m     20\u001b[0m \u001b[1;32mfrom\u001b[0m \u001b[0msklearn\u001b[0m\u001b[1;33m.\u001b[0m\u001b[0mmodel_selection\u001b[0m \u001b[1;32mimport\u001b[0m \u001b[0mGridSearchCV\u001b[0m\u001b[1;33m\u001b[0m\u001b[1;33m\u001b[0m\u001b[0m\n\u001b[0;32m     21\u001b[0m \u001b[1;32mfrom\u001b[0m \u001b[0msklearn\u001b[0m \u001b[1;32mimport\u001b[0m \u001b[0mmetrics\u001b[0m\u001b[1;33m\u001b[0m\u001b[1;33m\u001b[0m\u001b[0m\n\u001b[1;32m---> 22\u001b[1;33m \u001b[1;32mimport\u001b[0m \u001b[0mxgboost\u001b[0m\u001b[1;33m\u001b[0m\u001b[1;33m\u001b[0m\u001b[0m\n\u001b[0m\u001b[0;32m     23\u001b[0m \u001b[1;32mfrom\u001b[0m \u001b[0mxgboost\u001b[0m \u001b[1;32mimport\u001b[0m \u001b[0mXGBRegressor\u001b[0m\u001b[1;33m\u001b[0m\u001b[1;33m\u001b[0m\u001b[0m\n\u001b[0;32m     24\u001b[0m \u001b[1;33m\u001b[0m\u001b[0m\n",
      "\u001b[1;31mModuleNotFoundError\u001b[0m: No module named 'xgboost'"
     ]
    }
   ],
   "source": [
    "import yfinance as yf\n",
    "\n",
    "import sys\n",
    "import pandas as pd\n",
    "import math\n",
    "import numpy as np\n",
    "\n",
    "import matplotlib\n",
    "from matplotlib import pyplot as plt\n",
    "from matplotlib import style\n",
    "import seaborn as sns\n",
    "\n",
    "import sklearn\n",
    "from sklearn import preprocessing\n",
    "from sklearn.model_selection import train_test_split\n",
    "from sklearn.linear_model import LinearRegression\n",
    "from sklearn.tree import DecisionTreeRegressor\n",
    "from sklearn.ensemble import RandomForestRegressor\n",
    "from sklearn.model_selection import ShuffleSplit\n",
    "from sklearn.model_selection import GridSearchCV\n",
    "from sklearn import metrics\n",
    "import xgboost\n",
    "from xgboost import XGBRegressor\n",
    "\n",
    "from datetime import datetime\n",
    "from dateutil.relativedelta import relativedelta"
   ]
  },
  {
   "cell_type": "code",
   "execution_count": null,
   "metadata": {
    "id": "rAfhPviNq_kI"
   },
   "outputs": [],
   "source": [
    "### Downloading Required Data:coffee, wheat, cotton, maize, soya bean\n",
    "commodities_list = ['coffee', 'wheat', 'cotton', 'corn', 'soybeans']\n",
    "\n",
    "## Github URL for the commodity prices: All prices are downloaded from https://www.indexmundi.com/commodities/\n",
    "url = 'https://raw.githubusercontent.com/drakub/wqu/main/'\n",
    "\n",
    "## Fetching the prices of each commodity\n",
    "coffee = pd.read_csv(url + 'coffee.csv')\n",
    "cotton = pd.read_csv(url + 'cotton.csv')\n",
    "maize  = pd.read_csv(url + 'corn.csv')\n",
    "wheat  = pd.read_csv(url + 'wheat.csv')\n",
    "soybean  = pd.read_csv(url + 'soybeans.csv')"
   ]
  },
  {
   "cell_type": "code",
   "execution_count": null,
   "metadata": {
    "id": "vlAgevrxFHjX"
   },
   "outputs": [],
   "source": [
    "## Droping the change column in commodity prices\n",
    "coffee.drop('Change', inplace = True, axis = 1)\n",
    "cotton.drop('Change', inplace = True, axis = 1)\n",
    "maize.drop('Change', inplace = True, axis = 1)\n",
    "wheat.drop('Change', inplace = True, axis = 1)\n",
    "soybean.drop('Change', inplace = True, axis = 1)"
   ]
  },
  {
   "cell_type": "code",
   "execution_count": null,
   "metadata": {
    "id": "Wcx1c3L6EOOt"
   },
   "outputs": [],
   "source": [
    "## Renaming price columns\n",
    "coffee.rename(columns = {'Price': 'coffee'}, inplace = True)\n",
    "cotton.rename(columns = {'Price': 'cotton'}, inplace = True)\n",
    "maize.rename(columns = {'Price': 'maize'}, inplace = True)\n",
    "wheat.rename(columns = {'Price': 'wheat'}, inplace = True)\n",
    "soybean.rename(columns = {'Price': 'soybean'}, inplace = True)"
   ]
  },
  {
   "cell_type": "code",
   "execution_count": null,
   "metadata": {
    "id": "aikN2FWMA0XG"
   },
   "outputs": [],
   "source": [
    "## Merging the commodity prices to create one dataframe\n",
    "prices = (coffee.merge(cotton).merge(maize).merge(wheat).merge(soybean))"
   ]
  },
  {
   "cell_type": "code",
   "execution_count": null,
   "metadata": {
    "colab": {
     "base_uri": "https://localhost:8080/",
     "height": 206
    },
    "id": "eFqyZyTUBSQB",
    "outputId": "120edc25-25dd-4a93-aab1-098b677b4fb9"
   },
   "outputs": [],
   "source": [
    "prices.head()"
   ]
  },
  {
   "cell_type": "code",
   "execution_count": null,
   "metadata": {
    "colab": {
     "base_uri": "https://localhost:8080/",
     "height": 206
    },
    "id": "xm_C_Amv3WFN",
    "outputId": "0cef97f7-b1a4-4922-ca72-6815d720ca4f"
   },
   "outputs": [],
   "source": [
    "prices.tail()"
   ]
  },
  {
   "cell_type": "code",
   "execution_count": null,
   "metadata": {
    "id": "Yk_sh5Q4IIgS"
   },
   "outputs": [],
   "source": [
    "## Formatting the date column\n",
    "from dateutil.parser import parse\n",
    "prices['Month'] = prices['Month'].map(lambda d: parse('01 ' + d))"
   ]
  },
  {
   "cell_type": "code",
   "execution_count": null,
   "metadata": {
    "colab": {
     "base_uri": "https://localhost:8080/",
     "height": 206
    },
    "id": "Y3x1tJG5KHIh",
    "outputId": "075f85d3-b9d8-4369-cf66-ddb574b45fd5"
   },
   "outputs": [],
   "source": [
    "prices.head()"
   ]
  },
  {
   "cell_type": "code",
   "execution_count": null,
   "metadata": {
    "id": "_RroSNYALKKU"
   },
   "outputs": [],
   "source": [
    "## Changing the date column\n",
    "prices.rename(columns = {'Month':'Date'}, inplace=True)"
   ]
  },
  {
   "cell_type": "code",
   "execution_count": null,
   "metadata": {
    "colab": {
     "base_uri": "https://localhost:8080/",
     "height": 206
    },
    "id": "Gaa31Lw5LgAZ",
    "outputId": "ef2b7619-3a96-46b2-c377-844522a86453"
   },
   "outputs": [],
   "source": [
    "prices.head()"
   ]
  },
  {
   "cell_type": "markdown",
   "metadata": {
    "id": "V_GWWhEAGXSK"
   },
   "source": [
    "**Data Analysis and Visualization**"
   ]
  },
  {
   "cell_type": "code",
   "execution_count": null,
   "metadata": {
    "colab": {
     "base_uri": "https://localhost:8080/"
    },
    "id": "ZsT6q9YxGbrK",
    "outputId": "9346fe22-90e7-4dce-da7b-1e48c162fd4e"
   },
   "outputs": [],
   "source": [
    "prices.info()"
   ]
  },
  {
   "cell_type": "code",
   "execution_count": null,
   "metadata": {
    "colab": {
     "base_uri": "https://localhost:8080/",
     "height": 300
    },
    "id": "JL-y0J4wGnIP",
    "outputId": "b36b56f7-0459-47f4-8a6b-2d6d5cf6e267"
   },
   "outputs": [],
   "source": [
    "prices.describe()"
   ]
  },
  {
   "cell_type": "code",
   "execution_count": null,
   "metadata": {
    "id": "QYiiK5CVL8eq"
   },
   "outputs": [],
   "source": [
    "## Convert the date column into datetime and make it index column\n",
    "prices['Date'] = pd.to_datetime(prices['Date'])\n",
    "prices.set_index('Date', inplace=True)"
   ]
  },
  {
   "cell_type": "code",
   "execution_count": null,
   "metadata": {
    "colab": {
     "base_uri": "https://localhost:8080/",
     "height": 453
    },
    "id": "Vf4zUq_ENL4l",
    "outputId": "89fc3516-ddbb-49f4-cdb0-8b947ebc6c3e"
   },
   "outputs": [],
   "source": [
    "## Visualize the commodity prices\n",
    "commodities = [commodity for commodity in prices.columns if prices[commodity].dtypes != 'O']\n",
    "\n",
    "style.use('ggplot')\n",
    "prices.plot(y = commodities)\n",
    "plt.xlabel('Months /Years')\n",
    "plt.ylabel('Monthly Prices Per Metric Ton\\n(US Dollars)')\n",
    "plt.show()"
   ]
  },
  {
   "cell_type": "code",
   "execution_count": null,
   "metadata": {
    "colab": {
     "base_uri": "https://localhost:8080/",
     "height": 453
    },
    "id": "5zwzGohLOZXN",
    "outputId": "20780466-04ec-4f60-ee91-4c19a3294104"
   },
   "outputs": [],
   "source": [
    "## Visualized scaled prices\n",
    "min_max_scaled_prices = prices.copy()\n",
    "for column in prices:\n",
    "  num_ = (min_max_scaled_prices[column] - min_max_scaled_prices[column].min())\n",
    "  den_ = (min_max_scaled_prices[column].max() - min_max_scaled_prices[column].min())\n",
    "\n",
    "  min_max_scaled_prices[column] = num_/den_\n",
    "\n",
    "min_max_scaled_prices.plot(y = commodities)\n",
    "plt.xlabel('Months /Years')\n",
    "plt.ylabel('Scaled Monthly Prices Per Metric Ton \\n(US Dollars)')\n",
    "plt.show()"
   ]
  },
  {
   "cell_type": "code",
   "execution_count": null,
   "metadata": {
    "colab": {
     "base_uri": "https://localhost:8080/",
     "height": 451
    },
    "id": "GC4JKN9lPoXk",
    "outputId": "e8c75be6-008d-4b0f-e411-232272fba364"
   },
   "outputs": [],
   "source": [
    "## Visualizing the Correlation among the commodity prices\n",
    "corMatrix = prices.corr()\n",
    "fig = plt.figure(figsize=(7, 5))\n",
    "sns.heatmap(corMatrix, annot = True)\n",
    "plt.show()"
   ]
  },
  {
   "cell_type": "code",
   "execution_count": null,
   "metadata": {
    "colab": {
     "base_uri": "https://localhost:8080/",
     "height": 691
    },
    "id": "AR96O2sxQdwp",
    "outputId": "debf5c22-d758-4ccc-fc9b-3845ba418941"
   },
   "outputs": [],
   "source": [
    "## Generating Time Series\n",
    "plt.figure(figsize=(20, 60))\n",
    "plotnumber = 1\n",
    "for feature in commodities:\n",
    "    ax = plt.subplot(12, 3, plotnumber)\n",
    "    sns.histplot(prices[feature], color = \"red\", kde = True, stat = \"density\", linewidth = 0)\n",
    "    plotnumber+=1\n",
    "plt.show()"
   ]
  },
  {
   "cell_type": "code",
   "execution_count": null,
   "metadata": {
    "colab": {
     "base_uri": "https://localhost:8080/",
     "height": 721
    },
    "id": "J_eanREqR8OG",
    "outputId": "989322ff-b208-44f1-8f76-34c5128383dd"
   },
   "outputs": [],
   "source": [
    "## Box plots\n",
    "plt.figure(figsize=(20, 60))\n",
    "plotnumber = 1\n",
    "for feature in commodities:\n",
    "    ax = plt.subplot(12, 3, plotnumber)\n",
    "    sns.boxplot(x = prices[feature])\n",
    "    plt.xlabel(feature)\n",
    "    plotnumber+=1\n",
    "plt.show()"
   ]
  },
  {
   "cell_type": "markdown",
   "metadata": {
    "id": "VjHJwkdgTDuP"
   },
   "source": [
    "**TRAINING ALGORITHM AND PREDICTING PRICES**"
   ]
  },
  {
   "cell_type": "code",
   "execution_count": null,
   "metadata": {
    "id": "ysRuz4etj5BO"
   },
   "outputs": [],
   "source": [
    "def findModelUsingGridSearchCv(x, y):\n",
    "    algos = {\n",
    "        'DecisionTreeRegressor': {\n",
    "            'model': DecisionTreeRegressor(),\n",
    "            'params': {\n",
    "                'criterion': ['squared_error','friedman_mse'],\n",
    "                'splitter': ['best','random']\n",
    "            }\n",
    "        },\n",
    "        'RandomForestRegressor': {\n",
    "            'model': RandomForestRegressor(),\n",
    "            'params': {\n",
    "                'n_estimators': [10, 50, 100, 130],\n",
    "                'criterion': ['squared_error'],\n",
    "                'max_depth': range(2, 4, 1),\n",
    "            }\n",
    "        },\n",
    "        'XGBRegressor': {\n",
    "            'model': XGBRegressor(),\n",
    "            'params': {\n",
    "                'objective': ['reg:squarederror'],\n",
    "                'learning_rate': [0.5, 0.1, 0.01, 0.001],\n",
    "                'max_depth': [2, 3],\n",
    "                'n_estimators': [10, 50, 100, 200]\n",
    "            }\n",
    "        },\n",
    "        'LinearRegression': {\n",
    "            'model': LinearRegression(),\n",
    "            'params': {}\n",
    "        }\n",
    "\n",
    "    }\n",
    "    scores = []\n",
    "    cv = ShuffleSplit(n_splits = 5, test_size = 0.2, random_state = 0)\n",
    "    for algo_name, config in algos.items():\n",
    "        gs = GridSearchCV(config['model'], config['params'],cv = cv, return_train_score = False)\n",
    "        gs.fit(x,y)\n",
    "        scores.append({\n",
    "            'model':algo_name,\n",
    "            'best_score': gs.best_score_,\n",
    "            'best_params': gs.best_params_\n",
    "        })\n",
    "    return pd.DataFrame(scores, columns = ['model', 'best_score', 'best_params'])"
   ]
  },
  {
   "cell_type": "code",
   "execution_count": null,
   "metadata": {
    "id": "2sVEv53qiheb"
   },
   "outputs": [],
   "source": [
    "def plotCorrGraph(commodity):\n",
    "  plt.figure(figsize=(20, 60))\n",
    "  plotnumber = 1\n",
    "  for item in commodities:\n",
    "      ax = plt.subplot(12, 3, plotnumber)\n",
    "      plt.scatter(prices[item], prices[commodity])\n",
    "      plt.xlabel(item)\n",
    "      plt.ylabel(commodity)\n",
    "      plotnumber += 1\n",
    "  plt.show()"
   ]
  },
  {
   "cell_type": "code",
   "execution_count": null,
   "metadata": {
    "id": "zexhsB8njCrP"
   },
   "outputs": [],
   "source": [
    "def spitDataSet(target):\n",
    "  y = prices[target]\n",
    "  X = prices.drop([target],axis=1)\n",
    "  X_train, X_test, y_train, y_test = train_test_split(X, y, test_size =0.2, random_state=0)\n",
    "  return X, y"
   ]
  },
  {
   "cell_type": "code",
   "execution_count": null,
   "metadata": {
    "id": "WqswOgCmkhnL"
   },
   "outputs": [],
   "source": [
    "def plotOriginalPredictedPrices(predicted, original, target):\n",
    "  plt.plot(predicted,color=\"red\",label=\"Predicted Price\")\n",
    "  plt.plot(list(original),color=\"green\", label=\"Original Price\")\n",
    "  plt.title(target)\n",
    "  plt.xlabel('No. of values')\n",
    "  plt.ylabel('Price')\n",
    "  plt.legend()\n",
    "  plt.show()"
   ]
  },
  {
   "cell_type": "code",
   "execution_count": null,
   "metadata": {
    "colab": {
     "base_uri": "https://localhost:8080/",
     "height": 924
    },
    "id": "TojYb0cXTLeE",
    "outputId": "ed7a088c-bda8-407f-c2a3-2ecf06a66470"
   },
   "outputs": [],
   "source": [
    "## Print the correlation matrix for coffee\n",
    "print(corMatrix['coffee'])\n",
    "\n",
    "## Visualize the correlation between coffee prices and other commodity prices\n",
    "plotCorrGraph('coffee')"
   ]
  },
  {
   "cell_type": "code",
   "execution_count": null,
   "metadata": {
    "id": "RfCB1Y_clmU9"
   },
   "outputs": [],
   "source": [
    "## Find the best model for Coffee Price Prediction\n",
    "split = spitDataSet('coffee')\n",
    "X = split[0]\n",
    "y = split[1]"
   ]
  },
  {
   "cell_type": "code",
   "execution_count": null,
   "metadata": {
    "colab": {
     "base_uri": "https://localhost:8080/",
     "height": 175
    },
    "id": "SuRI45K3n51g",
    "outputId": "6e109bbc-76d4-4651-d088-86484b93888d"
   },
   "outputs": [],
   "source": [
    "pd.set_option('display.max_colwidth', 100)\n",
    "findModelUsingGridSearchCv(X,y)"
   ]
  }
 ],
 "metadata": {
  "colab": {
   "provenance": []
  },
  "kernelspec": {
   "display_name": "Python 3 (ipykernel)",
   "language": "python",
   "name": "python3"
  },
  "language_info": {
   "codemirror_mode": {
    "name": "ipython",
    "version": 3
   },
   "file_extension": ".py",
   "mimetype": "text/x-python",
   "name": "python",
   "nbconvert_exporter": "python",
   "pygments_lexer": "ipython3",
   "version": "3.9.7"
  }
 },
 "nbformat": 4,
 "nbformat_minor": 1
}
